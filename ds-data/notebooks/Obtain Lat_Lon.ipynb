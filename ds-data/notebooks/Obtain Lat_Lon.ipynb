{
 "cells": [
  {
   "cell_type": "code",
   "execution_count": 40,
   "id": "8f0b251b-6a7b-4b2b-9d1f-6836cfdc4b6d",
   "metadata": {},
   "outputs": [
    {
     "name": "stderr",
     "output_type": "stream",
     "text": [
      "Processing Rows: 100%|█████████████████████| 22903/22903 [9:16:27<00:00,  1.46s/it]\n"
     ]
    }
   ],
   "source": [
    "import pandas as pd\n",
    "import time\n",
    "import requests\n",
    "\n",
    "df = pd.read_csv('./city_state.csv')\n",
    "\n",
    "headers = {\n",
    "    'User-Agent': 'Mozilla/5.0 (Windows NT 10.0; Win64; x64) AppleWebKit/537.36 (KHTML, like Gecko) Chrome/115.0.0.0 Safari/537.36',\n",
    "    'Accept': 'application/json, text/plain, */*',\n",
    "    'Accept-Language': 'en-US,en;q=0.9',\n",
    "    'Connection': 'keep-alive',\n",
    "    'Referer': 'https://example.com/',\n",
    "}\n",
    "\n",
    "\n",
    "boundingbox = []\n",
    "lat = []\n",
    "lon = []\n",
    "city_name = []\n",
    "state_name = []\n",
    "\n",
    "for index, row in tqdm(df.iterrows(), total=df.shape[0], desc='Processing Rows'):\n",
    "    \n",
    "    city = row['city']\n",
    "    state = row['state']\n",
    "    \n",
    "    uri = f\"https://nominatim.openstreetmap.org/search?q={city},{state}&format=json\"\n",
    "    response = requests.get(uri, headers=headers)\n",
    "\n",
    "    if len(response.json()) > 0:\n",
    "        data = response.json()[0]\n",
    "        lat.append(data['lat'])\n",
    "        lon.append(data['lon'])\n",
    "        boundingbox.append(data['boundingbox'])\n",
    "        city_name.append(city)\n",
    "        state_name.append(state)\n",
    "    \n",
    "    time.sleep(1)\n",
    "    \n",
    "new_df = pd.DataFrame()\n",
    "new_df['city'] = city_name\n",
    "new_df['state'] = state_name\n",
    "new_df['lat'] = lat\n",
    "new_df['lon'] = lon\n",
    "new_df['boundingboxes'] = boundingbox\n",
    "new_df.to_csv('./city_state_lat_lon.csv')"
   ]
  },
  {
   "cell_type": "code",
   "execution_count": null,
   "id": "e7edb9b9-e7be-45b8-bbd7-6bae83c38223",
   "metadata": {},
   "outputs": [],
   "source": []
  }
 ],
 "metadata": {
  "kernelspec": {
   "display_name": "myenv",
   "language": "python",
   "name": "myenv"
  },
  "language_info": {
   "codemirror_mode": {
    "name": "ipython",
    "version": 3
   },
   "file_extension": ".py",
   "mimetype": "text/x-python",
   "name": "python",
   "nbconvert_exporter": "python",
   "pygments_lexer": "ipython3",
   "version": "3.12.4"
  }
 },
 "nbformat": 4,
 "nbformat_minor": 5
}
