{
 "cells": [
  {
   "cell_type": "markdown",
   "id": "36023708-a2dd-4a14-8a85-bc6e7427ca3c",
   "metadata": {},
   "source": [
    "# To JSON!\n",
    "\n",
    "This notebook is used to create a JSON file that can be used by mapbox to mark up the different locations.\n",
    "It takes in the city_state_lat_on.csv, drops some useless columns, then parses it to create a json file."
   ]
  },
  {
   "cell_type": "code",
   "execution_count": 41,
   "id": "36e7c170-4b47-4532-ad19-363bd8a65a56",
   "metadata": {},
   "outputs": [],
   "source": [
    "import pandas as pd\n",
    "import json\n",
    "\n",
    "df = pd.read_csv('./city_state_lat_lon.csv')"
   ]
  },
  {
   "cell_type": "code",
   "execution_count": 42,
   "id": "171b5969-b761-413f-8517-109ba4160daf",
   "metadata": {},
   "outputs": [],
   "source": [
    "df = df.drop('Unnamed: 0', axis=1)\n",
    "df = df.drop('boundingboxes', axis=1)"
   ]
  },
  {
   "cell_type": "code",
   "execution_count": 43,
   "id": "4cdb0d76-063a-49fd-a605-fe4d8383c9cb",
   "metadata": {
    "scrolled": true
   },
   "outputs": [],
   "source": [
    "features = []\n",
    "for index, row in df.iterrows():\n",
    "    features.append(\n",
    "        {\"type\": \"Feature\", \n",
    "         \"properties\": {\"name\":f\"{row['city']}, {row['state']}\", \n",
    "                      \"icon\":\"marker\"}, \n",
    "         \"geometry\": {\"type\": \"Point\", \n",
    "                    \"coordinates\": [row['lon'], row['lat'] ]}  \n",
    "    })\n",
    "\n",
    "# Prepare final JSON structure\n",
    "final_json = {\n",
    "    \"type\":\"FeatureCollection\",\n",
    "    \"features\": features\n",
    "}\n",
    "\n",
    "# Write to JSON file\n",
    "with open('output.json', 'w') as f:\n",
    "    json.dump(final_json, f, indent=4)"
   ]
  },
  {
   "cell_type": "markdown",
   "id": "0bc81588-d147-4019-9a4e-0dcf7223e393",
   "metadata": {},
   "source": [
    "Example of what this will output:\n",
    "```\n",
    "type: \"FeatureCollection\",\n",
    "      features: [\n",
    "        {\n",
    "          type: \"Feature\",\n",
    "          properties: {\n",
    "            name:\"Phoenix, AZ\",\n",
    "            icon: \"marker\"\n",
    "          },\n",
    "          geometry: {\n",
    "            type: \"Point\",\n",
    "            coordinates: [-112.038659, 33.4484]\n",
    "          }\n",
    "        },\n",
    "```"
   ]
  }
 ],
 "metadata": {
  "kernelspec": {
   "display_name": "myenv",
   "language": "python",
   "name": "myenv"
  },
  "language_info": {
   "codemirror_mode": {
    "name": "ipython",
    "version": 3
   },
   "file_extension": ".py",
   "mimetype": "text/x-python",
   "name": "python",
   "nbconvert_exporter": "python",
   "pygments_lexer": "ipython3",
   "version": "3.12.6"
  }
 },
 "nbformat": 4,
 "nbformat_minor": 5
}
