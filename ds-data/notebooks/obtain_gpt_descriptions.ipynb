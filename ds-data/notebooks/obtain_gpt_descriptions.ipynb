{
 "cells": [
  {
   "cell_type": "markdown",
   "id": "b2b18878",
   "metadata": {},
   "source": [
    "# ChatGPT Batch API \n",
    "\n",
    "In this notebook, we utilize the Batch API which allows us to send up to 50k requests via a `.jsonl` file. \n",
    "- [More information on Batch API here](https://platform.openai.com/docs/guides/batch/overview)\n",
    "\n",
    "The advantage of using this over the standard API is that there is a 50% decrease in rate limits, and it is less frustrating to deal with.\n",
    "\n",
    "We first write to a `.jsonl` by generating a list json objects using rows from the `city_state.csv`.\n",
    "Afterward, we pass the file to the API to start a batch which should complete within 24 hours.\n",
    "Finally, we save the results, and create a new `.csv` file which can then be used to upload documents to our database."
   ]
  },
  {
   "cell_type": "code",
   "execution_count": null,
   "id": "32b92d3c-5cd9-43a4-ab75-5443222148ee",
   "metadata": {},
   "outputs": [],
   "source": [
    "# !pip3 install openai\n",
    "# !pip3 install pandas"
   ]
  },
  {
   "cell_type": "code",
   "execution_count": 7,
   "id": "a7616a63",
   "metadata": {},
   "outputs": [
    {
     "data": {
      "text/plain": [
       "22720"
      ]
     },
     "execution_count": 7,
     "metadata": {},
     "output_type": "execute_result"
    }
   ],
   "source": [
    "# Setup list of cities\n",
    "import pandas as pd\n",
    "df = pd.read_csv('../data/final_datasets/city_state_lat_lon.csv')\n",
    "len(df)"
   ]
  },
  {
   "cell_type": "code",
   "execution_count": 8,
   "id": "e6ab353b",
   "metadata": {},
   "outputs": [],
   "source": [
    "# Generate .jsonl file\n",
    "\n",
    "import json\n",
    "requests = []\n",
    "for row in df.iterrows():\n",
    "\n",
    "    city = f\"{row[1]['city']}, {row[1]['state']}\"\n",
    "    content = f\"Create a two sentence description about {city} with a character limit of 150. Make it a single line with no line breaks. Don't include special characters\"\n",
    "    request = {\n",
    "                \"custom_id\": f\"request-{row[0]}\", \n",
    "                \"method\": \"POST\", \n",
    "                \"url\": \"/v1/chat/completions\", \n",
    "                \"body\": {\n",
    "                            \"model\": \"gpt-3.5-turbo-0125\", \n",
    "                            \"messages\": [{\n",
    "                                            \"role\": \"system\", \n",
    "                                            \"content\": \n",
    "                                            \"You are a helpful assistant.\"\n",
    "                                            },\n",
    "                                            {\n",
    "                                            \"role\": \"user\", \n",
    "                                            \"content\": content\n",
    "                                            }],\n",
    "                            \"max_tokens\": 1000}\n",
    "              }\n",
    "    requests.append(request)\n",
    "\n",
    "# Write the content to the file\n",
    "with open('batchinput.jsonl', 'w') as file:\n",
    "    for req in requests:\n",
    "        file.write(json.dumps(req) + '\\n')"
   ]
  },
  {
   "cell_type": "code",
   "execution_count": 18,
   "id": "9c534e64",
   "metadata": {},
   "outputs": [],
   "source": [
    "# Setup environment variables\n",
    "import os\n",
    "os.environ[\"OPENAI_API_KEY\"] = \"YourAPIKey\""
   ]
  },
  {
   "cell_type": "code",
   "execution_count": 140,
   "id": "2e43048d",
   "metadata": {},
   "outputs": [],
   "source": [
    "from openai import OpenAI\n",
    "client = OpenAI()\n",
    "\n",
    "# Get batch file\n",
    "batch_input_file = client.files.create(\n",
    "  file=open(\"batchinput.jsonl\", \"rb\"),\n",
    "  purpose=\"batch\"\n",
    ")\n",
    "\n",
    "# Create the batch\n",
    "batch_input_file_id = batch_input_file.id\n",
    "batch_response = client.batches.create(\n",
    "    input_file_id=batch_input_file_id,\n",
    "    endpoint=\"/v1/chat/completions\",\n",
    "    completion_window=\"24h\",\n",
    "    metadata={\n",
    "      \"description\": \"nightly eval job\"\n",
    "    }\n",
    ")"
   ]
  },
  {
   "cell_type": "code",
   "execution_count": 171,
   "id": "9426ea10",
   "metadata": {},
   "outputs": [
    {
     "name": "stdout",
     "output_type": "stream",
     "text": [
      "Batch(id='batch_66f4f1533d608190b8340bcb03791f0b', completion_window='24h', created_at=1727328595, endpoint='/v1/chat/completions', input_file_id='file-OPsnb9q0c6VZTXAKubYpxiQX', object='batch', status='completed', cancelled_at=None, cancelling_at=None, completed_at=1727335420, error_file_id=None, errors=None, expired_at=None, expires_at=1727414995, failed_at=None, finalizing_at=1727332052, in_progress_at=1727328606, metadata={'description': 'nightly eval job'}, output_file_id='file-5wMrBh1F4lzc57CaiFzd9Zsg', request_counts=BatchRequestCounts(completed=22903, failed=0, total=22903))\n",
      "completed\n"
     ]
    }
   ],
   "source": [
    "# Check batch\n",
    "client = OpenAI()\n",
    "batch_response = client.batches.retrieve(batch_response.id)\n",
    "print(batch_response)\n",
    "print(batch_response.status)\n",
    "\n",
    "# Extras!\n",
    "# client.batches.cancel(batch_response.id) # Danger!\n",
    "# print(client.batches.list()) # list all batches"
   ]
  },
  {
   "cell_type": "code",
   "execution_count": null,
   "id": "c823e5a8",
   "metadata": {},
   "outputs": [],
   "source": [
    "# Save results\n",
    "if batch_response.output_file_id != None:\n",
    "    file_response = client.files.content(batch_response.output_file_id)\n",
    "    print(file_response.text)\n",
    "\n",
    "    # Write the content to the file\n",
    "    with open('output.jsonl', 'w') as file:\n",
    "        file.write(file_response.text)\n",
    "else:\n",
    "    print(\"output_file_id not available yet!\")"
   ]
  },
  {
   "cell_type": "code",
   "execution_count": 173,
   "id": "8f3da2c9",
   "metadata": {},
   "outputs": [],
   "source": [
    "import json\n",
    "\n",
    "file_path = 'output.jsonl'\n",
    "\n",
    "# Initialize a list to hold the parsed JSON objects\n",
    "data = []\n",
    "\n",
    "# Read the JSONL file\n",
    "with open(file_path, 'r') as file:\n",
    "    for line in file:\n",
    "        # Parse each line as a JSON object and append to the list\n",
    "        data.append(json.loads(line))\n",
    "\n",
    "# Access the contents \n",
    "# NOTE: Documentation states the order may not be maintained\n",
    "# You may need to re-order them based on the custom_ID. It was not necessary to do so in this case.\n",
    "descriptions = []\n",
    "for entry in data:\n",
    "    descriptions.append(entry['response']['body']['choices'][0]['message']['content'])\n",
    "\n",
    "# Create pandas dataframe\n",
    "final_df = pd.DataFrame()\n",
    "final_df['city'] = df['city']\n",
    "final_df['state'] = df['state']\n",
    "final_df['descriptions'] = descriptions\n",
    "final_df.to_csv('../data/final_datasets/city_descriptions.csv')"
   ]
  },
  {
   "cell_type": "markdown",
   "id": "36078c1a",
   "metadata": {},
   "source": [
    "## Standard API Example\n",
    "\n",
    "The below snippet shows the first method I tried using, which started to slow down after the first hour to the point where it was crawling on every request.\n",
    "\n",
    "---\n",
    "\n",
    "```python\n",
    "from openai import OpenAI\n",
    "import tqdm\n",
    "\n",
    "client = OpenAI()\n",
    "\n",
    "descriptions = []\n",
    "city_names = []\n",
    "state_names = []\n",
    "\n",
    "# Loop over over rows to to query the chatGPT API and collect descriptions\n",
    "for index, row in tqdm.tqdm(df.iloc[9301:].iterrows(), total=df.iloc[9301:].shape[0], desc='Processing Rows'):\n",
    "\n",
    "    city = f'{row['city']}, {row['state']}'\n",
    "\n",
    "    completion = client.chat.completions.create(\n",
    "        model=\"gpt-4o-mini\",\n",
    "        messages=[\n",
    "            {\"role\": \"system\", \"content\": \"You are a helpful assistant.\"},\n",
    "            {\n",
    "                \"role\": \"user\",\n",
    "                \"content\": f\"Create a two sentence description about {city} with a character limit of 150. Make it a single line with no line breaks. Don't include special characters\"\n",
    "            }\n",
    "        ]\n",
    "    )\n",
    "\n",
    "    # Append to lists for data frame creation later\n",
    "    city_names.append(row['city'])\n",
    "    state_names.append(row['state'])\n",
    "    descriptions.append(completion.choices[0].message.content)\n",
    "\n",
    "# Create a new data frame to save a CSV\n",
    "new_df = pd.DataFrame()\n",
    "new_df['city'] = city_names\n",
    "new_df['state'] = state_names\n",
    "new_df['description'] = descriptions\n",
    "new_df.to_csv('../data/final_datasets/city_descriptions.csv')\n",
    "```"
   ]
  },
  {
   "cell_type": "markdown",
   "id": "e99fd02f",
   "metadata": {},
   "source": []
  }
 ],
 "metadata": {
  "kernelspec": {
   "display_name": ".venv",
   "language": "python",
   "name": "python3"
  },
  "language_info": {
   "codemirror_mode": {
    "name": "ipython",
    "version": 3
   },
   "file_extension": ".py",
   "mimetype": "text/x-python",
   "name": "python",
   "nbconvert_exporter": "python",
   "pygments_lexer": "ipython3",
   "version": "3.12.6"
  }
 },
 "nbformat": 4,
 "nbformat_minor": 5
}
